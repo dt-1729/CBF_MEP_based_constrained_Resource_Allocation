{
 "cells": [
  {
   "cell_type": "code",
   "execution_count": 1,
   "metadata": {},
   "outputs": [],
   "source": [
    "import numpy as np\n",
    "import cvxpy as cp\n",
    "import matplotlib.pyplot as plt\n",
    "from scipy.linalg import block_diag\n",
    "from scipy import optimize\n",
    "from scipy.optimize import LinearConstraint\n",
    "from scipy.optimize import NonlinearConstraint\n",
    "from scipy.optimize import minimize\n",
    "from scipy.integrate import solve_ivp\n",
    "from scipy.spatial.distance import cdist\n",
    "import testcases\n",
    "from importlib import reload\n",
    "import class_flp\n",
    "import utils\n",
    "import time\n",
    "import pickle\n",
    "import datetime"
   ]
  },
  {
   "cell_type": "code",
   "execution_count": 70,
   "metadata": {},
   "outputs": [
    {
     "name": "stdout",
     "output_type": "stream",
     "text": [
      "beta: 0.0021530046996068894\n"
     ]
    }
   ],
   "source": [
    "reload(class_flp)\n",
    "n_testcases = 10\n",
    "list_N = [100*(i+1) for i in range(n_testcases)]\n",
    "list_M = [int(2+0.8*i) for i in range(n_testcases)]\n",
    "size_array = list(zip(list_N, list_M))\n",
    "# size_array = list(zip(range(50, 251, 50), range(3, 6)))\n",
    "d = 2\n",
    "N_init_cond = 10\n",
    "print(f'beta: {beta0}')\n",
    "\n",
    "# Setting the coefficients for CBF CLF based optimization\n",
    "alpha_h = 20\n",
    "alpha_l = 20\n",
    "p1 = 1\n",
    "p2 = 10\n",
    "gamma = 20\n",
    "u_b = 0.0\n",
    "\n",
    "# SGF\n",
    "alpha = 1\n",
    "kappa = 1\n",
    "\n",
    "T_f = 10.0\n",
    "dt_init = 0.05\n",
    "dt_max = 0.1\n",
    "dt_min = 1e-4\n",
    "Ftol = 0.01 # same for SLSQP and SGF\n",
    "xtol = 1e-3\n"
   ]
  },
  {
   "cell_type": "code",
   "execution_count": 72,
   "metadata": {},
   "outputs": [
    {
     "name": "stdout",
     "output_type": "stream",
     "text": [
      "Instance 0\tbeta0:1.3294e-03\n",
      "\titer 0\tsize: ((100, 2))\tx0_shape: (204,)\n",
      "\titer 1\tsize: ((200, 2))\tx0_shape: (404,)\n",
      "\titer 2\tsize: ((300, 3))\tx0_shape: (906,)\n",
      "\titer 3\tsize: ((400, 4))\tx0_shape: (1608,)\n",
      "\titer 4\tsize: ((500, 5))\tx0_shape: (2510,)\n",
      "\titer 5\tsize: ((600, 6))\tx0_shape: (3612,)\n",
      "\titer 6\tsize: ((700, 6))\tx0_shape: (4212,)\n",
      "\titer 7\tsize: ((800, 7))\tx0_shape: (5614,)\n",
      "\titer 8\tsize: ((900, 8))\tx0_shape: (7216,)\n",
      "\titer 9\tsize: ((1000, 9))\tx0_shape: (9018,)\n",
      "Instance 1\tbeta0:1.6700e-03\n",
      "\titer 0\tsize: ((100, 2))\tx0_shape: (204,)\n",
      "\titer 1\tsize: ((200, 2))\tx0_shape: (404,)\n",
      "\titer 2\tsize: ((300, 3))\tx0_shape: (906,)\n",
      "\titer 3\tsize: ((400, 4))\tx0_shape: (1608,)\n",
      "\titer 4\tsize: ((500, 5))\tx0_shape: (2510,)\n",
      "\titer 5\tsize: ((600, 6))\tx0_shape: (3612,)\n",
      "\titer 6\tsize: ((700, 6))\tx0_shape: (4212,)\n",
      "\titer 7\tsize: ((800, 7))\tx0_shape: (5614,)\n",
      "\titer 8\tsize: ((900, 8))\tx0_shape: (7216,)\n",
      "\titer 9\tsize: ((1000, 9))\tx0_shape: (9018,)\n",
      "Instance 2\tbeta0:4.3290e-02\n",
      "\titer 0\tsize: ((100, 2))\tx0_shape: (204,)\n",
      "\titer 1\tsize: ((200, 2))\tx0_shape: (404,)\n",
      "\titer 2\tsize: ((300, 3))\tx0_shape: (906,)\n",
      "\titer 3\tsize: ((400, 4))\tx0_shape: (1608,)\n",
      "\titer 4\tsize: ((500, 5))\tx0_shape: (2510,)\n",
      "\titer 5\tsize: ((600, 6))\tx0_shape: (3612,)\n",
      "\titer 6\tsize: ((700, 6))\tx0_shape: (4212,)\n",
      "\titer 7\tsize: ((800, 7))\tx0_shape: (5614,)\n",
      "\titer 8\tsize: ((900, 8))\tx0_shape: (7216,)\n",
      "\titer 9\tsize: ((1000, 9))\tx0_shape: (9018,)\n",
      "Instance 3\tbeta0:2.2227e-01\n",
      "\titer 0\tsize: ((100, 2))\tx0_shape: (204,)\n",
      "\titer 1\tsize: ((200, 2))\tx0_shape: (404,)\n",
      "\titer 2\tsize: ((300, 3))\tx0_shape: (906,)\n",
      "\titer 3\tsize: ((400, 4))\tx0_shape: (1608,)\n",
      "\titer 4\tsize: ((500, 5))\tx0_shape: (2510,)\n",
      "\titer 5\tsize: ((600, 6))\tx0_shape: (3612,)\n",
      "\titer 6\tsize: ((700, 6))\tx0_shape: (4212,)\n",
      "\titer 7\tsize: ((800, 7))\tx0_shape: (5614,)\n",
      "\titer 8\tsize: ((900, 8))\tx0_shape: (7216,)\n",
      "\titer 9\tsize: ((1000, 9))\tx0_shape: (9018,)\n",
      "Instance 4\tbeta0:1.5078e-01\n",
      "\titer 0\tsize: ((100, 2))\tx0_shape: (204,)\n",
      "\titer 1\tsize: ((200, 2))\tx0_shape: (404,)\n",
      "\titer 2\tsize: ((300, 3))\tx0_shape: (906,)\n",
      "\titer 3\tsize: ((400, 4))\tx0_shape: (1608,)\n",
      "\titer 4\tsize: ((500, 5))\tx0_shape: (2510,)\n",
      "\titer 5\tsize: ((600, 6))\tx0_shape: (3612,)\n",
      "\titer 6\tsize: ((700, 6))\tx0_shape: (4212,)\n",
      "\titer 7\tsize: ((800, 7))\tx0_shape: (5614,)\n",
      "\titer 8\tsize: ((900, 8))\tx0_shape: (7216,)\n",
      "\titer 9\tsize: ((1000, 9))\tx0_shape: (9018,)\n",
      "Instance 5\tbeta0:3.1218e-01\n",
      "\titer 0\tsize: ((100, 2))\tx0_shape: (204,)\n",
      "\titer 1\tsize: ((200, 2))\tx0_shape: (404,)\n",
      "\titer 2\tsize: ((300, 3))\tx0_shape: (906,)\n",
      "\titer 3\tsize: ((400, 4))\tx0_shape: (1608,)\n",
      "\titer 4\tsize: ((500, 5))\tx0_shape: (2510,)\n",
      "\titer 5\tsize: ((600, 6))\tx0_shape: (3612,)\n",
      "\titer 6\tsize: ((700, 6))\tx0_shape: (4212,)\n",
      "\titer 7\tsize: ((800, 7))\tx0_shape: (5614,)\n",
      "\titer 8\tsize: ((900, 8))\tx0_shape: (7216,)\n",
      "\titer 9\tsize: ((1000, 9))\tx0_shape: (9018,)\n",
      "Instance 6\tbeta0:1.4714e+00\n",
      "\titer 0\tsize: ((100, 2))\tx0_shape: (204,)\n",
      "\titer 1\tsize: ((200, 2))\tx0_shape: (404,)\n",
      "\titer 2\tsize: ((300, 3))\tx0_shape: (906,)\n",
      "\titer 3\tsize: ((400, 4))\tx0_shape: (1608,)\n",
      "\titer 4\tsize: ((500, 5))\tx0_shape: (2510,)\n",
      "\titer 5\tsize: ((600, 6))\tx0_shape: (3612,)\n",
      "\titer 6\tsize: ((700, 6))\tx0_shape: (4212,)\n",
      "\titer 7\tsize: ((800, 7))\tx0_shape: (5614,)\n",
      "\titer 8\tsize: ((900, 8))\tx0_shape: (7216,)\n",
      "\titer 9\tsize: ((1000, 9))\tx0_shape: (9018,)\n",
      "Instance 7\tbeta0:6.7661e+00\n",
      "\titer 0\tsize: ((100, 2))\tx0_shape: (204,)\n",
      "\titer 1\tsize: ((200, 2))\tx0_shape: (404,)\n",
      "\titer 2\tsize: ((300, 3))\tx0_shape: (906,)\n",
      "\titer 3\tsize: ((400, 4))\tx0_shape: (1608,)\n",
      "\titer 4\tsize: ((500, 5))\tx0_shape: (2510,)\n",
      "\titer 5\tsize: ((600, 6))\tx0_shape: (3612,)\n",
      "\titer 6\tsize: ((700, 6))\tx0_shape: (4212,)\n",
      "\titer 7\tsize: ((800, 7))\tx0_shape: (5614,)\n",
      "\titer 8\tsize: ((900, 8))\tx0_shape: (7216,)\n",
      "\titer 9\tsize: ((1000, 9))\tx0_shape: (9018,)\n",
      "Instance 8\tbeta0:1.8904e+01\n",
      "\titer 0\tsize: ((100, 2))\tx0_shape: (204,)\n",
      "\titer 1\tsize: ((200, 2))\tx0_shape: (404,)\n",
      "\titer 2\tsize: ((300, 3))\tx0_shape: (906,)\n",
      "\titer 3\tsize: ((400, 4))\tx0_shape: (1608,)\n",
      "\titer 4\tsize: ((500, 5))\tx0_shape: (2510,)\n",
      "\titer 5\tsize: ((600, 6))\tx0_shape: (3612,)\n",
      "\titer 6\tsize: ((700, 6))\tx0_shape: (4212,)\n",
      "\titer 7\tsize: ((800, 7))\tx0_shape: (5614,)\n",
      "\titer 8\tsize: ((900, 8))\tx0_shape: (7216,)\n",
      "\titer 9\tsize: ((1000, 9))\tx0_shape: (9018,)\n",
      "Instance 9\tbeta0:1.3414e+02\n",
      "\titer 0\tsize: ((100, 2))\tx0_shape: (204,)\n",
      "\titer 1\tsize: ((200, 2))\tx0_shape: (404,)\n",
      "\titer 2\tsize: ((300, 3))\tx0_shape: (906,)\n",
      "\titer 3\tsize: ((400, 4))\tx0_shape: (1608,)\n",
      "\titer 4\tsize: ((500, 5))\tx0_shape: (2510,)\n",
      "\titer 5\tsize: ((600, 6))\tx0_shape: (3612,)\n",
      "\titer 6\tsize: ((700, 6))\tx0_shape: (4212,)\n",
      "\titer 7\tsize: ((800, 7))\tx0_shape: (5614,)\n",
      "\titer 8\tsize: ((900, 8))\tx0_shape: (7216,)\n",
      "\titer 9\tsize: ((1000, 9))\tx0_shape: (9018,)\n"
     ]
    }
   ],
   "source": [
    "reload(class_flp)\n",
    "# storage arrays\n",
    "t_cbf = np.zeros((N_init_cond, len(size_array)))\n",
    "t_sgf = np.zeros((N_init_cond, len(size_array)))\n",
    "b_array = []\n",
    "\n",
    "for k in range(N_init_cond):\n",
    "    beta0 = np.random.uniform(0.001, 0.01*3**(k))\n",
    "    b_array.append(beta0)\n",
    "    print(f'Instance {k}\\tbeta0:{beta0:.4e}')\n",
    "    for i, (N,M) in enumerate(size_array):\n",
    "\n",
    "        resLoc, Y0, res_means, split_pct, rho = testcases.generate_testcase(\n",
    "            N, M, d, unif_split=True, cluster_cov=10, seed=k, sq_size=20, normalizer=False)\n",
    "        # allocation cost\n",
    "        np.random.seed(k)\n",
    "        alloc_cost = np.random.uniform(100,200,(N,M))\n",
    "        mean_alloc_cost = np.mean(alloc_cost)\n",
    "        C = np.random.uniform(0.3,1,len(split_pct))\n",
    "        # C = np.ones(shape=split_pct.shape)\n",
    "        C = (C/np.sum(C) + 0.02) * mean_alloc_cost\n",
    "        B = np.random.uniform(C.min()*0.2, C.min()*0.5, len(split_pct))\n",
    "\n",
    "        # initialize FLP class\n",
    "        flp = class_flp.FLP(N, M, d, resLoc, rho, C, B, alloc_cost, P_eps=1e-20, beta_tol=1e-10)\n",
    "\n",
    "        # initialize state\n",
    "        Y0 = np.random.uniform(10,20,(flp.M, flp.d))\n",
    "        P0 = np.random.uniform(0.0,1,(flp.N, flp.M)) + flp.P_eps\n",
    "        P0 = P0/P0.sum(axis=1,keepdims=True)\n",
    "        x0 = utils.YP2x(Y0, P0)\n",
    "\n",
    "        print(f'\\titer {i}\\tsize: ({N,M})\\tx0_shape: {x0.shape}')\n",
    "\n",
    "        # CLF_CBF control computation\n",
    "        t0 = time.time()\n",
    "        u_p, u_y, F, Fdot = flp.control_dyn(x0, beta0, u_b, p1, p2, gamma, alpha_h, alpha_l)\n",
    "        t1 = time.time()\n",
    "        t_cbf[k,i] = t1-t0\n",
    "        # print(f'\\t\\tCBF time: {t_cbf[k,i]:.3f}')\n",
    "\n",
    "        # SGF optimization\n",
    "        t2 = time.time()\n",
    "        u, v = flp.calc_u1(x0, beta0, alpha, kappa)\n",
    "        t3 = time.time()\n",
    "        t_sgf[k,i] = t3-t2\n",
    "        # print(f'\\t\\tSGF time: {t_sgf[k,i]:.3f}')\n"
   ]
  },
  {
   "cell_type": "code",
   "execution_count": 73,
   "metadata": {},
   "outputs": [],
   "source": [
    "# str(datetime.datetime.today()).split()\n",
    "current_time = datetime.datetime.now()\n",
    "yyyy = str(current_time.year)\n",
    "mm = str(current_time.month)\n",
    "dd = str(current_time.day)\n",
    "hh = str(current_time.hour)\n",
    "mt = str(current_time.minute)\n",
    "sec = str(current_time.second)\n",
    "current_datetime = yyyy + '_' + mm + '_' + dd + '_' + hh + '_' + mt + '_' + sec "
   ]
  },
  {
   "cell_type": "code",
   "execution_count": 74,
   "metadata": {},
   "outputs": [],
   "source": [
    "# save data\n",
    "savedata = {'size_array':size_array, 'b_array':b_array, 't_cbf':t_cbf, 't_sgf':t_sgf}\n",
    "filedir = 'Simulations_and_results/final_results/control_compare/Our_SGF_control_compare_'\n",
    "filename = filedir + current_datetime + '.pkl'\n",
    "\n",
    "with open(filename, 'wb') as file:\n",
    "    pickle.dump(savedata, file)"
   ]
  },
  {
   "cell_type": "code",
   "execution_count": 3,
   "metadata": {},
   "outputs": [],
   "source": [
    "filedir = 'Simulations_and_results/final_results/control_compare/Our_SGF_control_compare_'\n",
    "filename = filedir+'2025_3_29_19_54_51.pkl'\n",
    "with open(filename, 'rb') as file:\n",
    "    loaddata = pickle.load(file)\n",
    "\n",
    "t1_cbf = loaddata['t_cbf']\n",
    "t1_sgf = loaddata['t_sgf']\n",
    "size_array = loaddata['size_array']\n",
    "\n",
    "# Compute average values\n",
    "m_t_cbf = np.mean(t1_cbf, axis=0)\n",
    "m_t_sgf = np.mean(t1_sgf, axis=0)\n",
    "\n",
    "# compute rescaled time values\n",
    "norm_m_t_cbf = m_t_cbf#/m_t_cbf\n",
    "norm_m_t_sgf = m_t_sgf#/m_t_cbf\n"
   ]
  },
  {
   "cell_type": "code",
   "execution_count": 100,
   "metadata": {},
   "outputs": [],
   "source": [
    "# plt.figure(figsize=(6,3))\n",
    "# plt.plot(m_t_cbf)\n",
    "# plt.show()\n",
    "# plt.figure(figsize=(6,3))\n",
    "# plt.plot(m_t_sgf)\n",
    "# plt.show()"
   ]
  },
  {
   "cell_type": "code",
   "execution_count": 8,
   "metadata": {},
   "outputs": [
    {
     "data": {
      "image/png": "[encoded data removed]",
      "text/plain": [
       "<Figure size 1000x600 with 1 Axes>"
      ]
     },
     "metadata": {},
     "output_type": "display_data"
    }
   ],
   "source": [
    "fontSize = 24\n",
    "clr = {'our':'black', 'SGF':'blue', 'SLSQP':'violet'}\n",
    "mk = {'our':'o', 'SGF':'s', 'SLSQP':'v'}\n",
    "mks = {'our':10, 'SGF':10, 'SLSQP':10}\n",
    "lb = {'our':'Our Approach', 'SGF':'SGF', 'SLSQP':'SLSQP'}\n",
    "\n",
    "\n",
    "plt.figure(figsize=(10, 6))\n",
    "\n",
    "plt.subplot(2,1,1)\n",
    "xticks = [n*m+2*m for n, m in size_array]\n",
    "plt.plot(xticks, norm_m_t_cbf, color=clr['our'], marker=mk['our'], markersize=mks['our'], label=lb['our'], linestyle='dotted')  # Plot F with blue circles\n",
    "plt.plot(xticks, norm_m_t_sgf, color=clr['SGF'], marker=mk['SGF'], markersize=mks['SGF'], label=lb['SGF'], linestyle='dotted')  # Plot G with red circles\n",
    "\n",
    "plt.ylabel(rf\"$t/t_0$\", fontsize=fontSize)\n",
    "plt.xlabel(rf\"Problem Size\", fontsize=fontSize)\n",
    "ymin_t, ymax_t = plt.ylim()\n",
    "yticks = [int(y) for y in np.linspace(0.0, ymax_t*(1+0.05), 3)]\n",
    "plt.yticks(yticks, fontsize=fontSize)\n",
    "plt.xticks(fontsize=fontSize)\n",
    "plt.legend(fontsize=fontSize, ncol=1, loc=\"center\", bbox_to_anchor=(0.32, 0.7))\n",
    "plt.grid(True)\n",
    "\n",
    "# plt.subplot(1,2,2)\n",
    "# xticks = [n*m+2*m for n, m in size_array]\n",
    "# # plt.plot(xticks, norm_m_t_cbf, color=clr['our'], marker=mk['our'], markersize=mks['our'], label=lb['our'], linestyle='dotted')  # Plot F with blue circles\n",
    "# plt.plot(xticks, norm_m_t_sgf, color=clr['SGF'], marker=mk['SGF'], markersize=mks['SGF'], label=lb['SGF'], linestyle='dotted')  # Plot G with red circles\n",
    "\n",
    "# plt.ylabel(rf\"$t/t_0$\", fontsize=fontSize)\n",
    "# plt.xlabel(rf\"Problem Size\", fontsize=fontSize)\n",
    "# ymin_t, ymax_t = plt.ylim()\n",
    "# yticks = [y for y in np.linspace(0.0, ymax_t*(1+0.05), 3)]\n",
    "# plt.yticks(yticks, fontsize=fontSize)\n",
    "# plt.xticks(fontsize=fontSize)\n",
    "# plt.legend(fontsize=fontSize, ncol=1, loc=\"center\", bbox_to_anchor=(0.32, 0.7))\n",
    "# plt.grid(True)\n",
    "\n",
    "\n",
    "plt.savefig(filename[:-3]+'pdf', format=\"pdf\")\n",
    "plt.show()"
   ]
  },
  {
   "cell_type": "code",
   "execution_count": 9,
   "metadata": {},
   "outputs": [
    {
     "data": {
      "text/plain": [
       "[204, 404, 906, 1608, 2510, 3612, 4212, 5614, 7216, 9018]"
      ]
     },
     "execution_count": 9,
     "metadata": {},
     "output_type": "execute_result"
    }
   ],
   "source": [
    "xticks"
   ]
  },
  {
   "cell_type": "code",
   "execution_count": 10,
   "metadata": {},
   "outputs": [
    {
     "data": {
      "text/plain": [
       "array([0.01435566, 0.01328366, 0.01896467, 0.0272449 , 0.03876047,\n",
       "       0.06001177, 0.0669889 , 0.08664677, 0.1122813 , 0.14502087])"
      ]
     },
     "execution_count": 10,
     "metadata": {},
     "output_type": "execute_result"
    }
   ],
   "source": [
    "norm_m_t_cbf"
   ]
  },
  {
   "cell_type": "code",
   "execution_count": 11,
   "metadata": {},
   "outputs": [
    {
     "data": {
      "text/plain": [
       "array([1.99964523e-02, 3.51958275e-02, 8.70716095e-02, 2.99766135e-01,\n",
       "       7.48479581e-01, 2.60305734e+00, 3.70946124e+00, 7.13503768e+00,\n",
       "       1.34980155e+01, 2.43373586e+01])"
      ]
     },
     "execution_count": 11,
     "metadata": {},
     "output_type": "execute_result"
    }
   ],
   "source": [
    "norm_m_t_sgf"
   ]
  }
 ],
 "metadata": {
  "kernelspec": {
   "display_name": "Python 3",
   "language": "python",
   "name": "python3"
  },
  "language_info": {
   "codemirror_mode": {
    "name": "ipython",
    "version": 3
   },
   "file_extension": ".py",
   "mimetype": "text/x-python",
   "name": "python",
   "nbconvert_exporter": "python",
   "pygments_lexer": "ipython3",
   "version": "3.9.6"
  }
 },
 "nbformat": 4,
 "nbformat_minor": 2
}
